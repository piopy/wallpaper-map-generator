{
 "cells": [
  {
   "cell_type": "code",
   "execution_count": null,
   "metadata": {
    "colab": {
     "base_uri": "https://localhost:8080/",
     "height": 1000
    },
    "id": "TdureGVQTpAq",
    "outputId": "b1594ebe-11af-424e-b1c6-f02ace21b2a7"
   },
   "outputs": [],
   "source": [
    "import prettymaps\n",
    "\n",
    "plot = prettymaps.plot(\n",
    "    \"Paola, Italy\",\n",
    "    circle = False,\n",
    "    radius = 3500,\n",
    "    credit=False,\n",
    "#     layers=lay,\n",
    "#     style=style,\n",
    "    preset='heerhugowaard',\n",
    "    save_as='Paola'\n",
    "    )"
   ]
  },
  {
   "cell_type": "code",
   "execution_count": null,
   "metadata": {},
   "outputs": [],
   "source": [
    "plot.background"
   ]
  },
  {
   "cell_type": "markdown",
   "metadata": {
    "id": "NPduYL3zTpAs"
   },
   "source": [
    "You can also choose from different \"presets\" (parameter combinations saved in JSON files)\n",
    "\n",
    "See below an example using the \"minimal\" preset"
   ]
  },
  {
   "cell_type": "code",
   "execution_count": null,
   "metadata": {},
   "outputs": [],
   "source": [
    "lay = {'perimeter': {},\n",
    "  'streets': {'width': {'motorway': 5,\n",
    "    'trunk': 5,\n",
    "    'primary': 4.5,\n",
    "    'secondary': 4,\n",
    "    'tertiary': 3.5,\n",
    "    'cycleway': 3.5,\n",
    "    'residential': 3,\n",
    "    'service': 2,\n",
    "    'unclassified': 2,\n",
    "    'pedestrian': 2,\n",
    "    'footway': 1}},\n",
    "  'building': {'tags': {'building': True, 'landuse': 'construction'}},\n",
    "  'water': {'tags': {'natural': ['water', 'bay']}},\n",
    "  'forest': {'tags': {'landuse': 'forest'}},\n",
    "  'green': {'tags': {'landuse': ['grass', 'orchard'],\n",
    "    'natural': ['island', 'wood'],\n",
    "    'leisure': 'park'}},\n",
    "  'beach': {'tags': {'natural': 'beach'}},\n",
    "  'parking': {'tags': {'amenity': 'parking',\n",
    "    'highway': 'pedestrian',\n",
    "    'man_made': 'pier'}}}\n",
    "style = {'perimeter': {'fill': False, 'lw': 0, 'zorder': 0},\n",
    "  'background': {'fc': '#FFFFFF', 'zorder': -1},\n",
    "  'green': {'fc': '#8BB174',\n",
    "   'ec': '#2F3737',\n",
    "   'hatch_c': '#A7C497',\n",
    "   'hatch': 'ooo...',\n",
    "   'lw': 1,\n",
    "   'zorder': 1},\n",
    "  'forest': {'fc': '#64B96A', 'ec': '#2F3737', 'lw': 1, 'zorder': 2},\n",
    "  'water': {'fc': '#a8e1e6',\n",
    "   'ec': '#2F3737',\n",
    "   'hatch_c': '#9bc3d4',\n",
    "   'hatch': 'ooo...',\n",
    "   'lw': 1,\n",
    "   'zorder': 3},\n",
    "  'beach': {'fc': '#FCE19C',\n",
    "   'ec': '#2F3737',\n",
    "   'hatch_c': '#d4d196',\n",
    "   'hatch': 'ooo...',\n",
    "   'lw': 1,\n",
    "   'zorder': 3},\n",
    "  'parking': {'fc': '#F2F4CB', 'ec': '#2F3737', 'lw': 1, 'zorder': 3},\n",
    "  'streets': {'fc': '#2F3737',\n",
    "   'ec': '#475657',\n",
    "   'alpha': 1,\n",
    "   'lw': 0,\n",
    "   'zorder': 4},\n",
    "  'building': {'palette': ['#433633', '#FF5E5B'],\n",
    "   'ec': '#2F3737',\n",
    "   'lw': 0.5,\n",
    "   'zorder': 5}}"
   ]
  },
  {
   "cell_type": "code",
   "execution_count": null,
   "metadata": {
    "colab": {
     "base_uri": "https://localhost:8080/"
    },
    "id": "2oDfCzHWYJ3W",
    "outputId": "fc16adc0-12b6-42df-c3b1-1ca26bc7fa22"
   },
   "outputs": [],
   "source": [
    "prettymaps.presets().preset.tolist()"
   ]
  },
  {
   "cell_type": "code",
   "execution_count": null,
   "metadata": {
    "colab": {
     "base_uri": "https://localhost:8080/",
     "height": 688
    },
    "id": "TJKoC5ZSTpAx",
    "outputId": "02f7eaaf-bc04-43e9-df40-5df74adca599"
   },
   "outputs": [],
   "source": [
    "import numpy as np\n",
    "import osmnx as ox\n",
    "from matplotlib import pyplot as plt\n",
    "from matplotlib.font_manager import FontProperties\n",
    "\n",
    "# Run prettymaps in show = False mode (we're only interested in obtaining the GeoDataFrames)\n",
    "plot = prettymaps.plot('Bologna, Italy', show = False)\n",
    "# Get list of buildings from plot's geodataframes dict\n",
    "buildings = plot.geodataframes['building']\n",
    "# Project from lat / long\n",
    "buildings = ox.project_gdf(buildings)\n",
    "buildings = [b for b in buildings.geometry if b.area > 0]\n",
    "\n",
    "# Draw Matplotlib mosaic of n x n building footprints\n",
    "n = 6\n",
    "fig,axes = plt.subplots(n,n, figsize = (7,6))\n",
    "# Set background color\n",
    "fig.patch.set_facecolor('#5cc0eb')\n",
    "# Figure title\n",
    "fig.suptitle(\n",
    "    'Buildings of Bologna',\n",
    "    size = 25,\n",
    "    color = '#fff'\n",
    ")\n",
    "# Draw each building footprint on a separate axis\n",
    "for ax,building in zip(np.concatenate(axes),buildings):\n",
    "    ax.plot(*building.exterior.xy, c = '#ffffff')\n",
    "    ax.autoscale(); ax.axis('off'); ax.axis('equal')"
   ]
  },
  {
   "cell_type": "markdown",
   "metadata": {
    "id": "HM_qdTGDTpAx"
   },
   "source": [
    "Access plot.ax or plot.fig to add new elements to the matplotlib plot:"
   ]
  },
  {
   "cell_type": "markdown",
   "metadata": {
    "id": "CCQDlMTQTpAy"
   },
   "source": [
    "Some other examples"
   ]
  },
  {
   "cell_type": "code",
   "execution_count": null,
   "metadata": {},
   "outputs": [],
   "source": [
    "plot = prettymaps.plot(\n",
    "    # City name\n",
    "    'Torremaggiore',\n",
    "    preset = 'minimal',\n",
    "    radius=1500\n",
    ")"
   ]
  },
  {
   "cell_type": "code",
   "execution_count": null,
   "metadata": {
    "colab": {
     "base_uri": "https://localhost:8080/"
    },
    "id": "NpLoWpaATpAy",
    "outputId": "bf4ba530-d22a-47f0-9e41-ecef02a941ca"
   },
   "outputs": [],
   "source": [
    "plot = prettymaps.plot(\n",
    "    # City name\n",
    "    'Torremaggiore',\n",
    "    preset = 'macao',\n",
    "    radius = 1500\n",
    ")"
   ]
  },
  {
   "cell_type": "code",
   "execution_count": null,
   "metadata": {
    "colab": {
     "base_uri": "https://localhost:8080/",
     "height": 1000
    },
    "id": "RfqCWHNVTpAy",
    "outputId": "c11be9fc-74c5-48b3-8fdd-e362023983fc",
    "scrolled": false
   },
   "outputs": [],
   "source": [
    "plot = prettymaps.plot(\n",
    "    'Torremaggiore',\n",
    "    preset = 'heerhugowaard',\n",
    "    radius=1500\n",
    ")"
   ]
  },
  {
   "cell_type": "code",
   "execution_count": null,
   "metadata": {
    "colab": {
     "base_uri": "https://localhost:8080/",
     "height": 1000
    },
    "id": "RfqCWHNVTpAy",
    "outputId": "c11be9fc-74c5-48b3-8fdd-e362023983fc",
    "scrolled": false
   },
   "outputs": [],
   "source": [
    "plot = prettymaps.plot(\n",
    "    'Torremaggiore',\n",
    "    preset = 'barcelona',\n",
    "    radius=1500\n",
    ")"
   ]
  },
  {
   "cell_type": "code",
   "execution_count": null,
   "metadata": {
    "colab": {
     "base_uri": "https://localhost:8080/",
     "height": 1000
    },
    "id": "RfqCWHNVTpAy",
    "outputId": "c11be9fc-74c5-48b3-8fdd-e362023983fc",
    "scrolled": false
   },
   "outputs": [],
   "source": [
    "plot = prettymaps.plot(\n",
    "    'Torremaggiore',\n",
    "    preset = 'cb-bf-f',\n",
    "    radius=1500\n",
    ")"
   ]
  }
 ],
 "metadata": {
  "colab": {
   "provenance": [],
   "toc_visible": true
  },
  "kernelspec": {
   "display_name": "Python 3 (ipykernel)",
   "language": "python",
   "name": "python3"
  },
  "language_info": {
   "codemirror_mode": {
    "name": "ipython",
    "version": 3
   },
   "file_extension": ".py",
   "mimetype": "text/x-python",
   "name": "python",
   "nbconvert_exporter": "python",
   "pygments_lexer": "ipython3",
   "version": "3.11.4"
  },
  "vscode": {
   "interpreter": {
    "hash": "54450f6f75536567d66e0f62469206cde91211157bc4b123d518773c336ee8c7"
   }
  }
 },
 "nbformat": 4,
 "nbformat_minor": 1
}
