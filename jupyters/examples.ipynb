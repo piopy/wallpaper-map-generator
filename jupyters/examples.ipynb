{
  "cells": [
    {
      "cell_type": "code",
      "execution_count": null,
      "metadata": {
        "id": "_iBrHb5XTpAa"
      },
      "outputs": [],
      "source": [
        "# Install prettymaps using pip:\n",
        "!pip install prettymaps"
      ]
    },
    {
      "cell_type": "markdown",
      "metadata": {
        "id": "d6ePDmrxTpAg"
      },
      "source": [
        "# prettymaps\n",
        "\n",
        "A minimal Python library to draw customized maps from [OpenStreetMap](https://www.openstreetmap.org/#map=12/11.0733/106.3078) created using the [osmnx](https://github.com/gboeing/osmnx), [matplotlib](https://matplotlib.org/), [shapely](https://shapely.readthedocs.io/en/stable/index.html) and [vsketch](https://github.com/abey79/vsketch) packages.\n",
        "\n",
        "![](https://github.com/marceloprates/prettymaps/raw/main/prints/heerhugowaard.png)\n",
        "\n",
        "\n",
        "This work is [licensed](LICENSE) under a GNU Affero General Public License v3.0 (you can make commercial use, distribute and modify this project, but must **disclose** the source code with the license and copyright notice)\n",
        "\n",
        "## Note about crediting and NFTs:\n",
        "- Please keep the printed message on the figures crediting my repository and OpenStreetMap ([mandatory by their license](https://www.openstreetmap.org/copyright)).\n",
        "- I am personally **against** NFTs for their [environmental impact](https://earth.org/nfts-environmental-impact/), the fact that they're a [giant money-laundering pyramid scheme](https://twitter.com/smdiehl/status/1445795667826208770) and the structural incentives they create for [theft](https://twitter.com/NFTtheft) in the open source and generative art communities.\n",
        "- **I do not authorize in any way this project to be used for selling NFTs**, although I cannot legally enforce it. **Respect the creator**.\n",
        "- The [AeternaCivitas](https://magiceden.io/marketplace/aeterna_civitas) and [geoartnft](https://www.geo-nft.com/) projects have used this work to sell NFTs and refused to credit it. See how they reacted after being exposed: [AeternaCivitas](etc/NFT_theft_AeternaCivitas.jpg), [geoartnft](etc/NFT_theft_geoart.jpg).\n",
        "- **I have closed my other generative art projects on Github and won't be sharing new ones as open source to protect me from the NFT community**.\n",
        "\n",
        "<a href='https://ko-fi.com/marceloprates_' target='_blank'><img height='36' style='border:0px;height:36px;' src='https://cdn.ko-fi.com/cdn/kofi1.png?v=3' border='0' alt='Buy Me a Coffee at ko-fi.com' /></a>\n",
        "\n",
        "## As seen on [Hacker News](https://web.archive.org/web/20210825160918/https://news.ycombinator.com/news):\n",
        "![](https://github.com/marceloprates/prettymaps/raw/main/prints/hackernews-prettymaps.png)\n",
        "\n",
        "## [prettymaps subreddit](https://www.reddit.com/r/prettymaps_/)\n",
        "## [Google Colaboratory Demo](https://colab.research.google.com/github/marceloprates/prettymaps/blob/master/notebooks/examples.ipynb)"
      ]
    },
    {
      "cell_type": "markdown",
      "metadata": {
        "id": "iNKTn3rXTpAn"
      },
      "source": [
        "# Installation\n",
        "\n",
        "OBS. I'm trying to solve a dependency issue with [vsketch](https://vsketch.readthedocs.io/en/latest/install.html) before publishing prettymaps v0.1.3, so, for now, please install directly from GitHub."
      ]
    },
    {
      "cell_type": "markdown",
      "metadata": {
        "id": "MtAlbBwpTpAo"
      },
      "source": [
        "### Install locally:\n",
        "Install prettymaps with:\n",
        "\n",
        "```\n",
        "pip install git+https://github.com/marceloprates/prettymaps\n",
        "```"
      ]
    },
    {
      "cell_type": "markdown",
      "metadata": {
        "id": "8gueeZc6TpAp"
      },
      "source": [
        "### Install on Google Colaboratory:\n",
        "\n",
        "Install prettymaps with:\n",
        "\n",
        "```\n",
        "!pip install -e \"git+https://github.com/marceloprates/prettymaps#egg=prettymaps\"\n",
        "```\n",
        "\n",
        "Then **restart the runtime** (Runtime -> Restart Runtime) before importing prettymaps"
      ]
    },
    {
      "cell_type": "markdown",
      "metadata": {
        "id": "oI7ySsczTpAp"
      },
      "source": [
        "# Tutorial"
      ]
    },
    {
      "cell_type": "markdown",
      "metadata": {
        "id": "Bt6JwSvlTpAq"
      },
      "source": [
        "Plotting with prettymaps is very simple. Run:\n",
        "```python\n",
        "prettymaps.plot(your_query)\n",
        "```\n",
        "\n",
        "**your_query** can be:\n",
        "1. An address (Example: \"Porto Alegre\"),\n",
        "2. Latitude / Longitude coordinates (Example: (-30.0324999, -51.2303767))\n",
        "3. A custom boundary in GeoDataFrame format"
      ]
    },
    {
      "cell_type": "code",
      "execution_count": null,
      "metadata": {
        "colab": {
          "base_uri": "https://localhost:8080/"
        },
        "id": "htj0DEzlVmsB",
        "outputId": "3c8f593b-03ae-4f0b-c1c8-e5d4be5c6057"
      },
      "outputs": [],
      "source": [
        "!pip install prettymaps"
      ]
    },
    {
      "cell_type": "code",
      "execution_count": null,
      "metadata": {
        "colab": {
          "base_uri": "https://localhost:8080/",
          "height": 1000
        },
        "id": "TdureGVQTpAq",
        "outputId": "b1594ebe-11af-424e-b1c6-f02ace21b2a7"
      },
      "outputs": [],
      "source": [
        "import prettymaps\n",
        "\n",
        "plot = prettymaps.plot(\n",
        "    (41.6874769, 15.292956),\n",
        "    title=\"Torremaggiore (FG)\",\n",
        "    circle = False,\n",
        "    radius = 1500,\n",
        "    credit=False,\n",
        "    save_as='png'\n",
        "    )"
      ]
    },
    {
      "cell_type": "markdown",
      "metadata": {
        "id": "NPduYL3zTpAs"
      },
      "source": [
        "You can also choose from different \"presets\" (parameter combinations saved in JSON files)\n",
        "\n",
        "See below an example using the \"minimal\" preset"
      ]
    },
    {
      "cell_type": "code",
      "execution_count": null,
      "metadata": {
        "colab": {
          "base_uri": "https://localhost:8080/"
        },
        "id": "2oDfCzHWYJ3W",
        "outputId": "fc16adc0-12b6-42df-c3b1-1ca26bc7fa22"
      },
      "outputs": [],
      "source": [
        "prettymaps.presets().preset.tolist()"
      ]
    },
    {
      "cell_type": "code",
      "execution_count": null,
      "metadata": {
        "colab": {
          "base_uri": "https://localhost:8080/",
          "height": 688
        },
        "id": "TJKoC5ZSTpAx",
        "outputId": "02f7eaaf-bc04-43e9-df40-5df74adca599"
      },
      "outputs": [],
      "source": [
        "import numpy as np\n",
        "import osmnx as ox\n",
        "from matplotlib import pyplot as plt\n",
        "from matplotlib.font_manager import FontProperties\n",
        "\n",
        "# Run prettymaps in show = False mode (we're only interested in obtaining the GeoDataFrames)\n",
        "plot = prettymaps.plot('Torremaggiore, Italy', show = False)\n",
        "# Get list of buildings from plot's geodataframes dict\n",
        "buildings = plot.geodataframes['building']\n",
        "# Project from lat / long\n",
        "buildings = ox.project_gdf(buildings)\n",
        "buildings = [b for b in buildings.geometry if b.area > 0]\n",
        "\n",
        "# Draw Matplotlib mosaic of n x n building footprints\n",
        "n = 6\n",
        "fig,axes = plt.subplots(n,n, figsize = (7,6))\n",
        "# Set background color\n",
        "fig.patch.set_facecolor('#5cc0eb')\n",
        "# Figure title\n",
        "fig.suptitle(\n",
        "    'Buildings of Torremaggiore',\n",
        "    size = 25,\n",
        "    color = '#fff'\n",
        ")\n",
        "# Draw each building footprint on a separate axis\n",
        "for ax,building in zip(np.concatenate(axes),buildings):\n",
        "    ax.plot(*building.exterior.xy, c = '#ffffff')\n",
        "    ax.autoscale(); ax.axis('off'); ax.axis('equal')"
      ]
    },
    {
      "cell_type": "markdown",
      "metadata": {
        "id": "HM_qdTGDTpAx"
      },
      "source": [
        "Access plot.ax or plot.fig to add new elements to the matplotlib plot:"
      ]
    },
    {
      "cell_type": "markdown",
      "metadata": {
        "id": "CCQDlMTQTpAy"
      },
      "source": [
        "Some other examples"
      ]
    },
    {
      "cell_type": "code",
      "execution_count": null,
      "metadata": {
        "colab": {
          "base_uri": "https://localhost:8080/"
        },
        "id": "NpLoWpaATpAy",
        "outputId": "bf4ba530-d22a-47f0-9e41-ecef02a941ca"
      },
      "outputs": [],
      "source": [
        "plot = prettymaps.plot(\n",
        "    # City name\n",
        "    'Torremaggiore',\n",
        "    preset = 'tijuca',\n",
        ")"
      ]
    },
    {
      "cell_type": "code",
      "execution_count": null,
      "metadata": {
        "colab": {
          "base_uri": "https://localhost:8080/",
          "height": 1000
        },
        "id": "RfqCWHNVTpAy",
        "outputId": "c11be9fc-74c5-48b3-8fdd-e362023983fc"
      },
      "outputs": [],
      "source": [
        "plot = prettymaps.plot(\n",
        "    'Torremaggiore',\n",
        "    preset = 'heerhugowaard',\n",
        ")"
      ]
    },
    {
      "cell_type": "markdown",
      "metadata": {
        "id": "8TNqNHapTpAz"
      },
      "source": [
        "Use prettymaps.create_preset() to create a preset:"
      ]
    },
    {
      "cell_type": "code",
      "execution_count": null,
      "metadata": {
        "id": "alRh9wPVTpAz"
      },
      "outputs": [],
      "source": [
        "# # Draw several regions on the same canvas\n",
        "# prettymaps.multiplot(\n",
        "#     prettymaps.Subplot(\n",
        "#         'Torremaggiore,Italy',\n",
        "#         style={'building': {'palette': ['#49392C', '#E1F2FE', '#98D2EB']}}\n",
        "#     ),\n",
        "#     prettymaps.Subplot(\n",
        "#         'Bologna, Italy',\n",
        "#         style={'building': {'palette': ['#BA2D0B', '#D5F2E3', '#73BA9B', '#F79D5C']}}\n",
        "#     ),\n",
        "#     prettymaps.Subplot(\n",
        "#         'Paola, Italy',\n",
        "#         style={'building': {'palette': ['#EEE4E1', '#E7D8C9', '#E6BEAE']}}\n",
        "#     ),\n",
        "#     # Load a global preset\n",
        "#     preset='cb-bf-f',\n",
        "#     # Figure size\n",
        "#     figsize=(12, 12)\n",
        "# )\n"
      ]
    }
  ],
  "metadata": {
    "colab": {
      "provenance": [],
      "toc_visible": true
    },
    "kernelspec": {
      "display_name": "main",
      "language": "python",
      "name": "python3"
    },
    "language_info": {
      "codemirror_mode": {
        "name": "ipython",
        "version": 3
      },
      "file_extension": ".py",
      "mimetype": "text/x-python",
      "name": "python",
      "nbconvert_exporter": "python",
      "pygments_lexer": "ipython3",
      "version": "3.10.9 (main, Jan 11 2023, 15:21:40) [GCC 11.2.0]"
    },
    "orig_nbformat": 4,
    "vscode": {
      "interpreter": {
        "hash": "54450f6f75536567d66e0f62469206cde91211157bc4b123d518773c336ee8c7"
      }
    }
  },
  "nbformat": 4,
  "nbformat_minor": 0
}
